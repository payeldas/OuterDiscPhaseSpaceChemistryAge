{
 "cells": [
  {
   "cell_type": "code",
   "execution_count": 18,
   "id": "640a3488-a572-4492-856c-371decb32daf",
   "metadata": {},
   "outputs": [],
   "source": [
    "%matplotlib inline\n",
    "import numpy as np\n",
    "import pandas as pd\n",
    "import CoordTrans as ct\n",
    "import matplotlib.pyplot as plt\n",
    "\n",
    "MOCKDFFILE      = \"../results/impactofsag/GalacticPlane_new.txt\"\n",
    "NWRITE          = 1000\n",
    "MOCKDFFILE_CART = \"../results/impactofsag/GalacticPlane_new_cartesian_n\"+str(NWRITE)+\".txt\""
   ]
  },
  {
   "cell_type": "code",
   "execution_count": 2,
   "id": "6f736bd6-90e1-4d58-abb9-56291175ad3e",
   "metadata": {},
   "outputs": [
    {
     "data": {
      "text/plain": [
       "'../results/impactofsag/GalacticPlane_new_cartesian_n100.txt'"
      ]
     },
     "execution_count": 2,
     "metadata": {},
     "output_type": "execute_result"
    }
   ],
   "source": [
    "MOCKDFFILE_CART"
   ]
  },
  {
   "cell_type": "code",
   "execution_count": 4,
   "id": "ebc00034-1ff2-41b5-821c-88e2d9e4d5d5",
   "metadata": {},
   "outputs": [
    {
     "name": "stdout",
     "output_type": "stream",
     "text": [
      "(73904, 10)\n"
     ]
    }
   ],
   "source": [
    "# Read DF mock sample of Galactic plane before impact\n",
    "mockDFBeforeSag = np.loadtxt(MOCKDFFILE)\n",
    "print(np.shape(mockDFBeforeSag))"
   ]
  },
  {
   "cell_type": "code",
   "execution_count": 5,
   "id": "a53da28f-a4ef-444a-b8fb-fa2f658ae4a3",
   "metadata": {},
   "outputs": [
    {
     "name": "stdout",
     "output_type": "stream",
     "text": [
      "(73904, 6)\n"
     ]
    }
   ],
   "source": [
    "# Convert from polar to Cartesian coordinates\n",
    "wp = mockDFBeforeSag[:,1:7]\n",
    "wc = ct.PolarToCartesian(wp)\n",
    "print(np.shape(wc))"
   ]
  },
  {
   "cell_type": "code",
   "execution_count": 6,
   "id": "0adf966a-71e5-4d7e-8a42-92b3093d0c17",
   "metadata": {},
   "outputs": [
    {
     "data": {
      "text/plain": [
       "(array([3.1000e+01, 6.5500e+02, 3.8136e+04, 3.4629e+04, 4.4600e+02,\n",
       "        5.0000e+00, 0.0000e+00, 1.0000e+00, 0.0000e+00, 1.0000e+00]),\n",
       " array([-3.27292 , -2.178187, -1.083454,  0.011279,  1.106012,  2.200745,\n",
       "         3.295478,  4.390211,  5.484944,  6.579677,  7.67441 ]),\n",
       " <BarContainer object of 10 artists>)"
      ]
     },
     "execution_count": 6,
     "metadata": {},
     "output_type": "execute_result"
    },
    {
     "data": {
      "image/png": "[encoded data removed]",
      "text/plain": [
       "<Figure size 432x288 with 1 Axes>"
      ]
     },
     "metadata": {
      "needs_background": "light"
     },
     "output_type": "display_data"
    }
   ],
   "source": [
    "plt.hist(wp[:,2])"
   ]
  },
  {
   "cell_type": "code",
   "execution_count": 7,
   "id": "5aaa9c8f-4b24-433e-a711-0cbe01f6d586",
   "metadata": {},
   "outputs": [],
   "source": [
    "# Write first n stars to file\n",
    "np.savetxt(MOCKDFFILE_CART,wc[0:NWRITE,:])"
   ]
  },
  {
   "cell_type": "code",
   "execution_count": 8,
   "id": "329a5189-4d44-4273-9cac-433adb552261",
   "metadata": {},
   "outputs": [],
   "source": [
    "# Read file in again\n",
    "particles = np.loadtxt(MOCKDFFILE_CART)"
   ]
  },
  {
   "cell_type": "code",
   "execution_count": 19,
   "id": "c0ba7799-0f03-4233-8b11-3898c078b03d",
   "metadata": {},
   "outputs": [],
   "source": [
    "# Function calculating velocity dispersion profiles\n",
    "def calc_vertical_velocity_dispersion(particles,n_R):\n",
    "    \n",
    "    # Extract R, z, v_z\n",
    "    particles_R = np.sqrt(particles[:,0]**2. + particles[:,1]**2.)\n",
    "    particles_z = particles[:,2]\n",
    "    v_z         = particles[:,5]\n",
    "    \n",
    "    # Calculate miniminum and maximum radii\n",
    "    tmp,R_edges     = pd.qcut(particles_R,n_R+1,retbins=True)\n",
    "    R_bins          = np.zeros(n_R)\n",
    "    err_R_bins      = np.zeros(n_R)\n",
    "    sigmaz_bins     = np.zeros(n_R)   \n",
    "    err_sigmaz_bins = np.zeros(n_R)\n",
    "    \n",
    "    for j in range(n_R):\n",
    "        \n",
    "        # Define bins\n",
    "        index  = ((R_edges[j]< particles_R) & (particles_R<R_edges[j+1]))\n",
    "        counts = np.sum(index)\n",
    "        print(counts)\n",
    "        \n",
    "        # Calculate mean and standard deviation in radius\n",
    "        R_bins[j] = np.mean(particles_R[index])\n",
    "        err_R_bins[j] = np.std(particles_R[index])\n",
    "        \n",
    "        # Calculate vertical velocity dispersions and error\n",
    "        sigmaz_bins[j] = np.std(v_z[index])\n",
    "        err_sigmaz_bins[j] = sigmaz_bins[j]/np.sqrt(counts)\n",
    "        \n",
    "    # Create plot\n",
    "    plt.figure(figsize=(6,4))\n",
    "    plt.errorbar(R_bins,sigmaz_bins,xerr=err_R_bins,yerr=err_sigmaz_bins,linestyle=\"-\",linewidth=2,fmt=\"o\")\n",
    "    plt.xlabel(r\"$R$ (kpc)\",fontsize=12)\n",
    "    plt.ylabel(r\"$\\sigma_z$ (km/s)\",fontsize=12)\n",
    "    plt.tight_layout(pad=1)\n",
    "\n",
    "    return(R_bins,err_R_bins,sigmaz_bins,err_sigmaz_bins)"
   ]
  },
  {
   "cell_type": "code",
   "execution_count": 20,
   "id": "d2ee2968-23be-4ee9-9c82-e1c2561029c2",
   "metadata": {},
   "outputs": [
    {
     "ename": "NameError",
     "evalue": "name 'R_min' is not defined",
     "output_type": "error",
     "traceback": [
      "\u001b[0;31m---------------------------------------------------------------------------\u001b[0m",
      "\u001b[0;31mNameError\u001b[0m                                 Traceback (most recent call last)",
      "\u001b[0;32m/tmp/ipykernel_14445/2133381810.py\u001b[0m in \u001b[0;36m<module>\u001b[0;34m\u001b[0m\n\u001b[0;32m----> 1\u001b[0;31m \u001b[0mcalc_vertical_velocity_dispersion\u001b[0m\u001b[0;34m(\u001b[0m\u001b[0mparticles\u001b[0m\u001b[0;34m,\u001b[0m\u001b[0;36m12\u001b[0m\u001b[0;34m)\u001b[0m\u001b[0;34m\u001b[0m\u001b[0;34m\u001b[0m\u001b[0m\n\u001b[0m",
      "\u001b[0;32m/tmp/ipykernel_14445/4191846696.py\u001b[0m in \u001b[0;36mcalc_vertical_velocity_dispersion\u001b[0;34m(particles, n_R)\u001b[0m\n\u001b[1;32m      9\u001b[0m     \u001b[0;31m# Calculate miniminum and maximum radii\u001b[0m\u001b[0;34m\u001b[0m\u001b[0;34m\u001b[0m\u001b[0;34m\u001b[0m\u001b[0m\n\u001b[1;32m     10\u001b[0m     \u001b[0mtmp\u001b[0m\u001b[0;34m,\u001b[0m\u001b[0mR_edges\u001b[0m \u001b[0;34m=\u001b[0m \u001b[0mpd\u001b[0m\u001b[0;34m.\u001b[0m\u001b[0mqcut\u001b[0m\u001b[0;34m(\u001b[0m\u001b[0mparticles_R\u001b[0m\u001b[0;34m,\u001b[0m\u001b[0mn_R\u001b[0m\u001b[0;34m,\u001b[0m\u001b[0mretbins\u001b[0m\u001b[0;34m=\u001b[0m\u001b[0;32mTrue\u001b[0m\u001b[0;34m)\u001b[0m\u001b[0;34m\u001b[0m\u001b[0;34m\u001b[0m\u001b[0m\n\u001b[0;32m---> 11\u001b[0;31m     \u001b[0mR_edges\u001b[0m         \u001b[0;34m=\u001b[0m \u001b[0mnp\u001b[0m\u001b[0;34m.\u001b[0m\u001b[0mlogspace\u001b[0m\u001b[0;34m(\u001b[0m\u001b[0mnp\u001b[0m\u001b[0;34m.\u001b[0m\u001b[0mlog10\u001b[0m\u001b[0;34m(\u001b[0m\u001b[0mR_min\u001b[0m\u001b[0;34m)\u001b[0m\u001b[0;34m,\u001b[0m\u001b[0mnp\u001b[0m\u001b[0;34m.\u001b[0m\u001b[0mlog10\u001b[0m\u001b[0;34m(\u001b[0m\u001b[0mR_max\u001b[0m\u001b[0;34m)\u001b[0m\u001b[0;34m,\u001b[0m\u001b[0mn_R\u001b[0m\u001b[0;34m+\u001b[0m\u001b[0;36m1\u001b[0m\u001b[0;34m)\u001b[0m\u001b[0;34m\u001b[0m\u001b[0;34m\u001b[0m\u001b[0m\n\u001b[0m\u001b[1;32m     12\u001b[0m     \u001b[0mR_bins\u001b[0m          \u001b[0;34m=\u001b[0m \u001b[0mnp\u001b[0m\u001b[0;34m.\u001b[0m\u001b[0mzeros\u001b[0m\u001b[0;34m(\u001b[0m\u001b[0mn_R\u001b[0m\u001b[0;34m)\u001b[0m\u001b[0;34m\u001b[0m\u001b[0;34m\u001b[0m\u001b[0m\n\u001b[1;32m     13\u001b[0m     \u001b[0merr_R_bins\u001b[0m      \u001b[0;34m=\u001b[0m \u001b[0mnp\u001b[0m\u001b[0;34m.\u001b[0m\u001b[0mzeros\u001b[0m\u001b[0;34m(\u001b[0m\u001b[0mn_R\u001b[0m\u001b[0;34m)\u001b[0m\u001b[0;34m\u001b[0m\u001b[0;34m\u001b[0m\u001b[0m\n",
      "\u001b[0;31mNameError\u001b[0m: name 'R_min' is not defined"
     ]
    }
   ],
   "source": [
    "calc_vertical_velocity_dispersion(particles,12)"
   ]
  },
  {
   "cell_type": "code",
   "execution_count": null,
   "id": "035e5369-6c43-4ba6-86c5-f5d56a80c6cd",
   "metadata": {},
   "outputs": [],
   "source": [
    "# Calculate kicks and perturbed coordinates a result of Sagittarius impact\n",
    "import CalcImpulseImpact as cii\n",
    "PERTURBMASS         = 5.e10                    # Sagittarius mass (solar masses)\n",
    "PERTURBRS           = 3.                       # Sagittarius scale radius (kpc)\n",
    "SAGIMPACTWC         = np.array([26.270, -0.821, -1.397, -45.82, -93.79, 255.52]) # Impact coordinates 1.2 Gyr ago (Vasiliev et al., 2020)\n",
    "impulseImpact       = cii.CalcImpulseImpact()\n",
    "vKicks, perturbWc   = impulseImpact.perturbDF(wc,PERTURBMASS,PERTURBRS,SAGIMPACTWC) # The velocity shifts, and the new coordinates\n"
   ]
  }
 ],
 "metadata": {
  "kernelspec": {
   "display_name": "Python 3 (ipykernel)",
   "language": "python",
   "name": "python3"
  },
  "language_info": {
   "codemirror_mode": {
    "name": "ipython",
    "version": 3
   },
   "file_extension": ".py",
   "mimetype": "text/x-python",
   "name": "python",
   "nbconvert_exporter": "python",
   "pygments_lexer": "ipython3",
   "version": "3.8.10"
  }
 },
 "nbformat": 4,
 "nbformat_minor": 5
}
