{
 "cells": [
  {
   "cell_type": "markdown",
   "metadata": {},
   "source": [
    "# Compare two model thin disk components"
   ]
  },
  {
   "cell_type": "code",
   "execution_count": 5,
   "metadata": {},
   "outputs": [],
   "source": [
    "%matplotlib inline\n",
    "import numpy as np\n",
    "import matplotlib.pyplot as plt\n",
    "import CoordTrans as ct"
   ]
  },
  {
   "cell_type": "code",
   "execution_count": 7,
   "metadata": {},
   "outputs": [],
   "source": [
    "nstars = 106569\n",
    "solpos = np.array([8.2,0.014,-8.6,13.9+232.8,7.1]) # McMillan 2017"
   ]
  },
  {
   "cell_type": "code",
   "execution_count": 32,
   "metadata": {},
   "outputs": [
    {
     "name": "stdout",
     "output_type": "stream",
     "text": [
      "(959121,)\n"
     ]
    }
   ],
   "source": [
    "# Read inner disk samples\n",
    "discsetup   = \"DoubleDisc/\"\n",
    "fileroot    = \"test33\"\n",
    "nmc         = 1\n",
    "samplesfile = \"../results/mocksamples/\"+discsetup+\"mocksamples_\"+fileroot+\"_innerdisk_nmc\"+str(nmc)+\".txt\"\n",
    "samples     = np.loadtxt(samplesfile)\n",
    "print(np.shape(samples))\n",
    "\n",
    "nnoise      = 1\n",
    "nobs        = 9\n",
    "samples     = np.reshape(samples,[-1,nobs])\n",
    "nsamp       = int(len(samples)/nnoise) \n",
    "fsamp       = nstars/np.float(nsamp)\n",
    "\n",
    "# Convert coordinates to polar\n",
    "we                 = samples[:,0:6]\n",
    "wg                 = ct.EquatorialToGalactic(we)\n",
    "wp                 = ct.GalacticToPolar(wg,solpos)\n",
    "innerDiskSamplesPolarNotRef = np.column_stack((wp,samples[:,6],samples[:,7],samples[:,8]))\n",
    "innerDiskSamplesPolar       = np.copy(innerDiskSamplesPolarNotRef)\n",
    "innerDiskSamplesPolar[:,2]  = np.abs(innerDiskSamplesPolarNotRef[:,2])\n",
    "\n",
    "# Reshape accordinate to number of noise samples created\n",
    "innerDiskSamplesPolar       = np.reshape(innerDiskSamplesPolar,[nsamp,nnoise,nobs])\n",
    "innerDiskSamplesPolarNotRef = np.reshape(innerDiskSamplesPolarNotRef,[nsamp,nnoise,nobs])"
   ]
  },
  {
   "cell_type": "code",
   "execution_count": 41,
   "metadata": {},
   "outputs": [
    {
     "name": "stdout",
     "output_type": "stream",
     "text": [
      "(959121,)\n"
     ]
    }
   ],
   "source": [
    "# Read outer disk samples\n",
    "samplesfile = \"../results/mocksamples/\"+discsetup+\"mocksamples_\"+fileroot+\"_outerdisk_nmc\"+str(nmc)+\".txt\"\n",
    "samples     = np.loadtxt(samplesfile)\n",
    "print(np.shape(samples))\n",
    "\n",
    "nnoise      = 1\n",
    "nobs        = 9\n",
    "samples     = np.reshape(samples,[-1,nobs])\n",
    "nsamp       = int(len(samples)/nnoise) \n",
    "fsamp       = nstars/np.float(nsamp)\n",
    "\n",
    "# Convert coordinates to polar\n",
    "we                 = samples[:,0:6]\n",
    "wg                 = ct.EquatorialToGalactic(we)\n",
    "wp                 = ct.GalacticToPolar(wg,solpos)\n",
    "outerDiskSamplesPolarNotRef = np.column_stack((wp,samples[:,6],samples[:,7],samples[:,8]))\n",
    "outerDiskSamplesPolar       = np.copy(outerDiskSamplesPolarNotRef)\n",
    "outerDiskSamplesPolar[:,2]  = np.abs(outerDiskSamplesPolarNotRef[:,2])\n",
    "\n",
    "# Reshape accordinate to number of noise samples created\n",
    "outerDiskSamplesPolar       = np.reshape(outerDiskSamplesPolar,[nsamp,nnoise,nobs])\n",
    "outerDiskSamplesPolarNotRef = np.reshape(outerDiskSamplesPolarNotRef,[nsamp,nnoise,nobs])"
   ]
  },
  {
   "cell_type": "code",
   "execution_count": 42,
   "metadata": {},
   "outputs": [
    {
     "name": "stderr",
     "output_type": "stream",
     "text": [
      "The PostScript backend does not support transparency; partially transparent artists will be rendered opaque.\n",
      "The PostScript backend does not support transparency; partially transparent artists will be rendered opaque.\n"
     ]
    },
    {
     "data": {
      "image/png": "[encoded data removed]",
      "text/plain": [
       "<Figure size 972x432 with 6 Axes>"
      ]
     },
     "metadata": {
      "needs_background": "light"
     },
     "output_type": "display_data"
    }
   ],
   "source": [
    "# Visualise 1D distributions\n",
    "fig,axarr  = plt.subplots(2,3,figsize=(13.5,6))\n",
    "\n",
    "for jnoise in range(nnoise):\n",
    "    axarr[0,0].hist(innerDiskSamplesPolarNotRef[:,jnoise,0],bins=20,density=True,\n",
    "                                   color=\"palevioletred\",linewidth=3,histtype=\"step\",label=\"Inner disk\")\n",
    "    axarr[0,0].hist(outerDiskSamplesPolarNotRef[:,jnoise,0],bins=20,density=True,\n",
    "                    color=\"gold\",linewidth=3,histtype=\"step\",label=\"Outer Disk\")\n",
    "axarr[0,0].ticklabel_format(axis='y',style='sci',scilimits=[0,2],useMathText=\"True\")\n",
    "axarr[0,0].set_xlabel(r\"$R$ (kpc)\",fontsize=14)\n",
    "axarr[0,0].set_xlim([0.,25.])\n",
    "\n",
    "for jnoise in range(nnoise):\n",
    "    n,bins,patches=axarr[0,1].hist(innerDiskSamplesPolarNotRef[:,jnoise,2],bins=30,density=True,\n",
    "                                   color=\"palevioletred\",linewidth=3,histtype=\"step\")\n",
    "    axarr[0,1].hist(outerDiskSamplesPolarNotRef[:,jnoise,2],bins=bins,density=True,\n",
    "                    color=\"gold\",linewidth=3,histtype=\"step\")\n",
    "axarr[0,1].ticklabel_format(axis='y', style='sci',scilimits=[0,2],useMathText=\"True\")\n",
    "axarr[0,1].set_xlabel(r\"$z$ (kpc)\",fontsize=14)\n",
    "axarr[0,1].set_xlim([-3.,3.])\n",
    "\n",
    "for jnoise in range(nnoise):\n",
    "    n,bins,patches=axarr[0,2].hist(innerDiskSamplesPolarNotRef[:,jnoise,5],bins=30,density=True,\n",
    "                                   color=\"palevioletred\",linewidth=3,histtype=\"step\")\n",
    "    axarr[0,2].hist(outerDiskSamplesPolarNotRef[:,jnoise,5],bins=bins,density=True,\n",
    "                    color=\"gold\",linewidth=3,histtype=\"step\")\n",
    "axarr[0,2].set_xlim([-100.,100.])\n",
    "axarr[0,2].ticklabel_format(axis='y', style='sci',scilimits=[0,2],useMathText=\"True\")\n",
    "axarr[0,2].set_xlabel(r\"$v_z$ (km/s)\",fontsize=14)\n",
    "\n",
    "for jnoise in range(nnoise):\n",
    "    n,bins,patches=axarr[1,0].hist(innerDiskSamplesPolarNotRef[:,jnoise,6],bins=30,density=True,\n",
    "                                   color=\"palevioletred\",linewidth=3,histtype=\"step\")\n",
    "    axarr[1,0].hist(outerDiskSamplesPolarNotRef[:,jnoise,6],bins=bins,density=True,\n",
    "                    color=\"gold\",linewidth=3,histtype=\"step\")\n",
    "axarr[1,0].ticklabel_format(axis='y',style='sci',scilimits=[0,2],useMathText=\"True\")\n",
    "axarr[1,0].set_xlabel(\"[Fe/H] (dex)\",fontsize=14)\n",
    "axarr[1,0].set_xlim([-1.0,0.5])\n",
    "\n",
    "for jnoise in range(nnoise):\n",
    "    n,bins,patches=axarr[1,1].hist(innerDiskSamplesPolarNotRef[:,jnoise,7],bins=30,density=True,\n",
    "                                   color=\"palevioletred\",linewidth=3,histtype=\"step\")\n",
    "    axarr[1,1].hist(outerDiskSamplesPolarNotRef[:,jnoise,7],bins=bins,density=True,\n",
    "                    color=\"gold\",linewidth=3,histtype=\"step\")\n",
    "axarr[1,1].ticklabel_format(axis='y', style='sci',scilimits=[0,2],useMathText=\"True\")\n",
    "axarr[1,1].set_xlabel(r\"[$\\alpha$/Fe] (dex)\",fontsize=14)\n",
    "axarr[1,1].set_xlim([-0.2,0.2])\n",
    "\n",
    "for jnoise in range(nnoise):\n",
    "    n,bins,patches=axarr[1,2].hist(innerDiskSamplesPolarNotRef[:,jnoise,8],bins=30,density=True,\n",
    "                                   color=\"palevioletred\",linewidth=3,histtype=\"step\")\n",
    "    axarr[1,2].hist(outerDiskSamplesPolarNotRef[:,jnoise,8],bins=bins,density=True,\n",
    "                    color=\"gold\",linewidth=3,histtype=\"step\")\n",
    "axarr[1,2].set_xlim([0,12.])\n",
    "axarr[1,2].set_xlabel(r\"$\\tau$ (Gyr)\",fontsize=14)\n",
    "\n",
    "axarr[0,0].legend(fontsize=12,loc=\"upper right\")\n",
    "\n",
    "fig.subplots_adjust(hspace=0.3,wspace=0.15)\n",
    "\n",
    "plotfile = \"../plots/mocksamples/\"+discsetup+\"1DDistributions_\"+fileroot+\"_innerouterdisk.eps\"\n",
    "fig.savefig(plotfile,format='eps')\n",
    "\n",
    "\n",
    "plotfile = \"../plots/mocksamples/\"+discsetup+\"1DDistributions_\"+fileroot+\"_innerouterdisk.png\"\n",
    "fig.savefig(plotfile,format='png')"
   ]
  },
  {
   "cell_type": "code",
   "execution_count": null,
   "metadata": {},
   "outputs": [],
   "source": []
  }
 ],
 "metadata": {
  "kernelspec": {
   "display_name": "Python 3",
   "language": "python",
   "name": "python3"
  },
  "language_info": {
   "codemirror_mode": {
    "name": "ipython",
    "version": 3
   },
   "file_extension": ".py",
   "mimetype": "text/x-python",
   "name": "python",
   "nbconvert_exporter": "python",
   "pygments_lexer": "ipython3",
   "version": "3.8.2"
  }
 },
 "nbformat": 4,
 "nbformat_minor": 4
}
