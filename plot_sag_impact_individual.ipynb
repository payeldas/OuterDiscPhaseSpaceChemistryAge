{
 "cells": [
  {
   "cell_type": "code",
   "execution_count": 20,
   "id": "fc5d5eb6-bd1c-420c-b98e-1cf7123a8547",
   "metadata": {},
   "outputs": [],
   "source": [
    "\"\"\"\n",
    "PLOT IMPACT OF SAGITTARIUS ON OUTER DISC\n",
    "\"\"\"\n",
    "import numpy as np\n",
    "import os\n",
    "import pandas as pd\n",
    "import coord_trans as ct\n",
    "import scipy.optimize as sciOpt\n",
    "import matplotlib.pyplot as plt"
   ]
  },
  {
   "cell_type": "code",
   "execution_count": 129,
   "id": "dfe283ab-9537-41c7-8591-d742b7f4a03f",
   "metadata": {},
   "outputs": [],
   "source": [
    "RUNNO               = 40\n",
    "RUNFOLDER           = \"../results/impactofsag/run\"+str(RUNNO)\n",
    "PLOTFOLDER          = \"../plots/impactofsag/run\"+str(RUNNO)\n",
    "TEST                = True\n",
    "NTEST               = 5000\n",
    "ZMIN                = 0.6 #kpc\n",
    "ZMAX                = 1.  #kpc\n",
    "if (TEST):\n",
    "    VKICKSOUTPUTFILE    = RUNFOLDER+\"/vKicks_test\"+str(NTEST)+\".csv\"\n",
    "    EVOLVEDDFOUTPUTFILE = RUNFOLDER+\"/evolvedDF_test\"+str(NTEST)+\".csv\"\n",
    "else:\n",
    "    VKICKSOUTPUTFILE    = RUNFOLDER+\"/vKicks.csv\"\n",
    "    EVOLVEDDFOUTPUTFILE = RUNFOLDER+\"/evolvedDF.csv\""
   ]
  },
  {
   "cell_type": "code",
   "execution_count": 130,
   "id": "02871e80-86c3-4def-afec-db93a34d9661",
   "metadata": {},
   "outputs": [],
   "source": [
    "if not os.path.exists(PLOTFOLDER):\n",
    "    os.makedirs(PLOTFOLDER)"
   ]
  },
  {
   "cell_type": "markdown",
   "id": "bf161b4c-82bf-4a77-a2d6-4befb56fd648",
   "metadata": {},
   "source": [
    "## Read observations, mock data, and stellar positions and velocities after impact"
   ]
  },
  {
   "cell_type": "code",
   "execution_count": 131,
   "id": "e39ffc5a-fdba-408e-a9fa-09db21c75060",
   "metadata": {},
   "outputs": [
    {
     "name": "stdout",
     "output_type": "stream",
     "text": [
      "12430\n",
      "572\n"
     ]
    }
   ],
   "source": [
    "# Read in obseved velocity dispersion profiles for young/old stars in outer disk\n",
    "young_ages_df = pd.read_csv(\"../data/sigz_young_ages_beyondplane.csv\")\n",
    "old_ages_df   = pd.read_csv(\"../data/sigz_old_ages_beyondplane.csv\")\n",
    "\n",
    "# Read saved mock galaxy data\n",
    "wc = np.loadtxt(\"../results/impactofsag/mock_mw_wc.txt\")\n",
    "wp = ct.CartesianToPolar(wc)\n",
    "index = (np.abs(wp[:,2]) > ZMIN ) & (np.abs(wp[:,2] < ZMAX))\n",
    "wp_beyond_plane = wp[index,:]\n",
    "wc_beyond_plane = wc[index,:]\n",
    "print(len(wp_beyond_plane))\n",
    "\n",
    "wc_evolved_DF = pd.read_csv(EVOLVEDDFOUTPUTFILE)\n",
    "wc_evolved    = wc_evolved_DF.values[:,1:]\n",
    "wp_evolved    = ct.CartesianToPolar(wc_evolved)\n",
    "index         = (np.abs(wp_evolved[:,2]) > ZMIN) & (np.abs(wp_evolved[:,2]) < ZMAX)\n",
    "wp_evolved_beyond_plane = wp_evolved[index,:]\n",
    "print(len(wp_evolved_beyond_plane))"
   ]
  },
  {
   "cell_type": "markdown",
   "id": "ed44e152-1501-4e0a-a531-5b6595359f2a",
   "metadata": {},
   "source": [
    "## Calculate vertical velocity dispersion profiles above and below plane"
   ]
  },
  {
   "cell_type": "code",
   "execution_count": 132,
   "id": "12f06ac2-9433-4854-b242-80483c1a6237",
   "metadata": {},
   "outputs": [],
   "source": [
    "# Define objective function to maximize for estimation of robust velocity dispersion\n",
    "# sigma - velocity dispersion\n",
    "# vel   - vector of velocities\n",
    "# eVel  - vector of velocity uncertainties\n",
    "# mu    - mean velocity\n",
    "def sigmaObjFunc(sigma,vel,eVel,mu):\n",
    "    \n",
    "    y = ((vel-mu)**2.)/((sigma**2.+eVel**2.)**2.) - (1./(sigma**2.+eVel**2.))\n",
    "    \n",
    "    return (np.sum(y))\n",
    "\n",
    "# Number of sigma for clipping\n",
    "f = 5."
   ]
  },
  {
   "cell_type": "code",
   "execution_count": 133,
   "id": "7c49ecf4-f403-4c23-abc6-fceb354cc8d9",
   "metadata": {},
   "outputs": [
    {
     "name": "stdout",
     "output_type": "stream",
     "text": [
      "880\n",
      "42\n",
      "907\n",
      "29\n",
      "846\n",
      "40\n",
      "778\n",
      "28\n",
      "629\n",
      "26\n",
      "463\n",
      "25\n",
      "313\n",
      "24\n",
      "195\n",
      "7\n",
      "121\n",
      "8\n",
      "60\n",
      "0\n"
     ]
    }
   ],
   "source": [
    "# Define variables\n",
    "R_min        = 6.\n",
    "R_max        = 14.\n",
    "n_R          = 10\n",
    "R_edges      = np.logspace(np.log10(R_min),np.log10(R_max),n_R+1)\n",
    "\n",
    "R_bin        = np.zeros(n_R)\n",
    "sigz_bin     = np.zeros(n_R)\n",
    "sigz_err_bin = np.zeros(n_R)\n",
    "\n",
    "R_evolved_bin        = np.zeros(n_R)\n",
    "sigz_evolved_bin     = np.zeros(n_R)\n",
    "sigz_err_evolved_bin = np.zeros(n_R)\n",
    "\n",
    "for j_R in range(n_R):\n",
    "        \n",
    "    ## OBSERVATIONS\n",
    "    # Define R region\n",
    "    R_index = ((R_edges[j_R]<wp_beyond_plane[:,0]) & (wp_beyond_plane[:,0]<R_edges[j_R+1])) \n",
    "               \n",
    "    # Calculate mean vz\n",
    "    mean = np.mean(wp_beyond_plane[R_index,5])\n",
    "                \n",
    "    # Calculate initial guess for sigz\n",
    "    sigma = np.std(wp_beyond_plane[R_index,5])\n",
    "        \n",
    "    # Clip velocities beyond three sigma\n",
    "    clipped_index = (wp_beyond_plane[:,5] > (mean-f*sigma)) & (wp_beyond_plane[:,5] < (mean+f*sigma))\n",
    "    index   = clipped_index * R_index\n",
    "        \n",
    "    # Calculate mean radii of clipped velocities\n",
    "    R_bin[j_R] = np.mean(wp_beyond_plane[index,0])\n",
    "        \n",
    "    n = np.sum(index)\n",
    "    print(n)\n",
    "        \n",
    "    # Recalculate mean\n",
    "    mean = np.mean(wp_beyond_plane[index,5])\n",
    "        \n",
    "    # Maximise likelihood to find robust measure of observed velocity dispersion\n",
    "    intervalMin = 0.\n",
    "    intervalMax = 100.\n",
    "    opt_sigz = sciOpt.brentq(sigmaObjFunc,intervalMin,intervalMax, \n",
    "                             args=(wp_beyond_plane[index,5],wp_beyond_plane[index,5]*0.+0.5,mean), \n",
    "                             xtol=2e-12, rtol=8.881784197001252e-16, \n",
    "                             maxiter=100, full_output=False)\n",
    "    sigz_bin[j_R] = opt_sigz\n",
    "    n = np.sum(index)\n",
    "    sigz_err_bin[j_R] = opt_sigz * np.sqrt(1./(2.*n))\n",
    "    \n",
    "    ### MODEL\n",
    "    # Define R region\n",
    "    R_index = ((R_edges[j_R]<wp_evolved_beyond_plane[:,0]) & (wp_evolved_beyond_plane[:,0]<R_edges[j_R+1])) \n",
    "               \n",
    "    # Calculate mean vz\n",
    "    mean = np.mean(wp_evolved_beyond_plane[R_index,5])\n",
    "                \n",
    "    # Calculate initial guess for sigz\n",
    "    sigma = np.std(wp_evolved_beyond_plane[R_index,5])\n",
    "        \n",
    "    # Clip velocities beyond three sigma\n",
    "    clipped_index = (wp_evolved_beyond_plane[:,5] > (mean-f*sigma)) & (wp_evolved_beyond_plane[:,5] < (mean+f*sigma))\n",
    "    index   = clipped_index * R_index\n",
    "        \n",
    "    n = np.sum(index)\n",
    "    print(n)\n",
    "    \n",
    "    if (n==0):\n",
    "        R_evolved_bin[j_R]        = np.nan\n",
    "        sigz_evolved_bin[j_R]     = np.nan\n",
    "        sigz_err_evolved_bin[j_R] = np.nan\n",
    "    else:\n",
    "        \n",
    "        # Calculate mean radii of clipped velocities\n",
    "        R_evolved_bin[j_R] = np.mean(wp_evolved_beyond_plane[index,0])\n",
    "        \n",
    "        # Recalculate mean\n",
    "        mean = np.mean(wp_evolved_beyond_plane[index,5])\n",
    "        \n",
    "        # Maximise likelihood to find robust measure of observed velocity dispersion\n",
    "        opt_sigz = sciOpt.brentq(sigmaObjFunc,intervalMin,intervalMax, \n",
    "                                 args=(wp_evolved_beyond_plane[index,5],wp_evolved_beyond_plane[index,5]*0.+0.5,mean), \n",
    "                                 xtol=2e-12, rtol=8.881784197001252e-16, \n",
    "                                 maxiter=100, full_output=False)\n",
    "        sigz_evolved_bin[j_R] = opt_sigz\n",
    "\n",
    "        sigz_err_evolved_bin[j_R] = opt_sigz * np.sqrt(1./(2.*n))"
   ]
  },
  {
   "cell_type": "code",
   "execution_count": 134,
   "id": "bd7a02f9-44b5-4bf4-8562-f89411637c63",
   "metadata": {},
   "outputs": [
    {
     "data": {
      "image/png": "[encoded data removed]",
      "text/plain": [
       "<Figure size 360x288 with 1 Axes>"
      ]
     },
     "metadata": {
      "needs_background": "light"
     },
     "output_type": "display_data"
    }
   ],
   "source": [
    "# CREATE PLOT\n",
    "    \n",
    "fig,ax = plt.subplots(1,1,figsize=(5,4))  \n",
    "ax.errorbar(R_bin,sigz_bin,yerr=sigz_err_bin,linestyle=\"-\",linewidth=2, color=\"black\",label=\"Before impact\")\n",
    "ax.errorbar(young_ages_df[\"R\"],young_ages_df[\"min_sigz\"],linestyle=\"-\",linewidth=2,color=\"gray\")\n",
    "ax.errorbar(young_ages_df[\"R\"],young_ages_df[\"max_sigz\"],linestyle=\"-\",linewidth=2,color=\"gray\")\n",
    "ax.fill_between(young_ages_df[\"R\"],young_ages_df[\"min_sigz\"],young_ages_df[\"max_sigz\"],color=\"gray\",alpha=0.2)\n",
    "ax.errorbar(old_ages_df[\"R\"],old_ages_df[\"min_sigz\"],linestyle=\"-\",linewidth=2,color=\"gray\")\n",
    "ax.errorbar(old_ages_df[\"R\"],old_ages_df[\"max_sigz\"],linestyle=\"-\",linewidth=2,color=\"gray\")\n",
    "ax.fill_between(old_ages_df[\"R\"],old_ages_df[\"min_sigz\"],old_ages_df[\"max_sigz\"],color=\"gray\",alpha=0.5)\n",
    "ax.tick_params(axis=\"x\",labelsize=12)\n",
    "ax.tick_params(axis=\"y\",labelsize=12)\n",
    "ax.set_xlabel(r\"$R$ (kpc)\",fontsize=16)\n",
    "ax.set_ylabel(r\"$\\sigma_z$ (km/s)\",fontsize=16) \n",
    "ax.errorbar(R_evolved_bin,sigz_evolved_bin,yerr=sigz_err_evolved_bin,linestyle=\"-\",linewidth=2, color=\"red\",label=\"Post impact\")\n",
    "ax.set_xlim([6.4,13.8])\n",
    "ax.set_ylim([10.,40.0])\n",
    "ax.legend()\n",
    "plt.tight_layout(pad=1)\n",
    "plt.savefig(PLOTFOLDER+\"/sagImpact.png\")"
   ]
  },
  {
   "cell_type": "code",
   "execution_count": null,
   "id": "e4dbe006-fd0d-41c8-b641-b8dfbde80d62",
   "metadata": {},
   "outputs": [],
   "source": []
  }
 ],
 "metadata": {
  "kernelspec": {
   "display_name": "Python 3 (ipykernel)",
   "language": "python",
   "name": "python3"
  },
  "language_info": {
   "codemirror_mode": {
    "name": "ipython",
    "version": 3
   },
   "file_extension": ".py",
   "mimetype": "text/x-python",
   "name": "python",
   "nbconvert_exporter": "python",
   "pygments_lexer": "ipython3",
   "version": "3.8.10"
  }
 },
 "nbformat": 4,
 "nbformat_minor": 5
}
