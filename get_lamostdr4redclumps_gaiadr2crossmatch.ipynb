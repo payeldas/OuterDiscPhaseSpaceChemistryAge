{
 "cells": [
  {
   "cell_type": "markdown",
   "metadata": {},
   "source": [
    "# Cross-match LAMOST DR4 red clumps with Gaia DR2"
   ]
  },
  {
   "cell_type": "code",
   "execution_count": 1,
   "metadata": {},
   "outputs": [],
   "source": [
    "%matplotlib inline\n",
    "import numpy as np\n",
    "import pandas as pd\n",
    "import matplotlib.pyplot as plt\n",
    "import astropy.units as u\n",
    "from astropy.coordinates import SkyCoord"
   ]
  },
  {
   "cell_type": "code",
   "execution_count": 2,
   "metadata": {},
   "outputs": [
    {
     "ename": "SyntaxError",
     "evalue": "invalid syntax (<ipython-input-2-16f3c0ca10a9>, line 5)",
     "output_type": "error",
     "traceback": [
      "\u001b[0;36m  File \u001b[0;32m\"<ipython-input-2-16f3c0ca10a9>\"\u001b[0;36m, line \u001b[0;32m5\u001b[0m\n\u001b[0;31m    print list(lamostdata)\u001b[0m\n\u001b[0m          ^\u001b[0m\n\u001b[0;31mSyntaxError\u001b[0m\u001b[0;31m:\u001b[0m invalid syntax\n"
     ]
    }
   ],
   "source": [
    "# Read LAMOST DR4 with Gaia cross-match data\n",
    "lamostdatafile = \"../data/lamost/LMRC-DR4-VF-SNR30.csv\"\n",
    "lamostdata = pd.read_csv(lamostdatafile)\n",
    "nstars = len(lamostdata)\n",
    "print list(lamostdata)"
   ]
  },
  {
   "cell_type": "code",
   "execution_count": 73,
   "metadata": {},
   "outputs": [
    {
     "name": "stdout",
     "output_type": "stream",
     "text": [
      "[ True  True  True ...  True  True  True]\n"
     ]
    }
   ],
   "source": [
    "# Go through LAMOST data and keep the Gaia match with the lowest astrometric excess noise\n",
    "imatch    = np.zeros(nstars,dtype=int) # Index of Gaia match with lowest astrometric excess noise\n",
    "gaiamatch = np.ones(nstars,dtype=bool) # Whether Gaia match exists\n",
    "for jstars in range(nstars):\n",
    "    index = np.where(crossmatch[\"id\"]==lamostdata[\"ID\"][jstars])       \n",
    "    if (len(index[0])>1):\n",
    "        noise = crossmatch[\"astrometric_excess_noise\"][index[0]].data\n",
    "        iminnoise = (noise==np.min(noise))\n",
    "        tmp = index[0][iminnoise]\n",
    "        if (np.sum(tmp)>1):\n",
    "            imatch[jstars] = tmp[0]\n",
    "        else:\n",
    "            imatch[jstars] = tmp\n",
    "    elif (len(index[0])==1):\n",
    "        imatch[jstars] = index[0]\n",
    "    else:\n",
    "        imatch[jstars] = 0\n",
    "        gaiamatch[jstars] = False"
   ]
  },
  {
   "cell_type": "code",
   "execution_count": 78,
   "metadata": {},
   "outputs": [],
   "source": [
    "# Add appropriate columns to LAMOST dataframe\n",
    "lamostdata[\"gaiadr2_ra\"]                  = crossmatch[\"ra\"][imatch]\n",
    "lamostdata[\"gaiadr2_ra_error\"]            = crossmatch[\"ra_error\"][imatch]\n",
    "lamostdata[\"gaiadr2_dec\"]                 = crossmatch[\"dec\"][imatch]\n",
    "lamostdata[\"gaiadr2_dec_error\"]           = crossmatch[\"dec_error\"][imatch]\n",
    "lamostdata[\"gaiadr2_parallax\"]            = crossmatch[\"parallax\"][imatch]\n",
    "lamostdata[\"gaiadr2_parallax_error\"]      = crossmatch[\"parallax_error\"][imatch]\n",
    "lamostdata[\"gaiadr2_pmra\"]                = crossmatch[\"pmra\"][imatch]\n",
    "lamostdata[\"gaiadr2_pmra_error\"]          = crossmatch[\"pmra_error\"][imatch]\n",
    "lamostdata[\"gaiadr2_pmdec\"]               = crossmatch[\"pmdec\"][imatch]\n",
    "lamostdata[\"gaiadr2_pmdec_error\"]         = crossmatch[\"pmdec_error\"][imatch]\n",
    "lamostdata[\"gaiadr2_ra_dec_corr\"]         = crossmatch[\"ra_dec_corr\"][imatch]\n",
    "lamostdata[\"gaiadr2_ra_parallax_corr\"]    = crossmatch[\"ra_parallax_corr\"][imatch]\n",
    "lamostdata[\"gaiadr2_ra_pmra_corr\"]        = crossmatch[\"ra_pmra_corr\"][imatch]\n",
    "lamostdata[\"gaiadr2_ra_pmdec_corr\"]       = crossmatch[\"ra_pmdec_corr\"][imatch]\n",
    "lamostdata[\"gaiadr2_dec_parallax_corr\"]   = crossmatch[\"dec_parallax_corr\"][imatch]\n",
    "lamostdata[\"gaiadr2_dec_pmra_corr\"]       = crossmatch[\"dec_pmra_corr\"][imatch]\n",
    "lamostdata[\"gaiadr2_dec_pmdec_corr\"]      = crossmatch[\"dec_pmdec_corr\"][imatch]\n",
    "lamostdata[\"gaiadr2_parallax_pmra_corr\"]  = crossmatch[\"parallax_pmra_corr\"][imatch]\n",
    "lamostdata[\"gaiadr2_parallax_pmdec_corr\"] = crossmatch[\"parallax_pmdec_corr\"][imatch]\n",
    "lamostdata[\"gaiadr2_pmra_pmdec_corr\"]     = crossmatch[\"pmra_pmdec_corr\"][imatch]\n",
    "lamostdata[\"gaiamatch\"]                   = gaiamatch\n",
    "\n",
    "# Where there is not match with Gaia, replace Gaia columns with -9999\n",
    "lamostdata[\"gaiadr2_ra\"][~gaiamatch]                   = -9999\n",
    "lamostdata[\"gaiadr2_ra_error\"][~gaiamatch]             = -9999   \n",
    "lamostdata[\"gaiadr2_dec\"][~gaiamatch]                  = -9999     \n",
    "lamostdata[\"gaiadr2_dec_error\"][~gaiamatch]            = -9999       \n",
    "lamostdata[\"gaiadr2_parallax\"][~gaiamatch]             = -9999         \n",
    "lamostdata[\"gaiadr2_parallax_error\"][~gaiamatch]       = -9999   \n",
    "lamostdata[\"gaiadr2_pmra\"][~gaiamatch]                 = -9999               \n",
    "lamostdata[\"gaiadr2_pmra_error\"][~gaiamatch]           = -9999         \n",
    "lamostdata[\"gaiadr2_pmdec\"][~gaiamatch]                = -9999             \n",
    "lamostdata[\"gaiadr2_pmdec_error\"][~gaiamatch]          = -9999         \n",
    "lamostdata[\"gaiadr2_ra_dec_corr\"][~gaiamatch]          = -9999         \n",
    "lamostdata[\"gaiadr2_ra_parallax_corr\"][~gaiamatch]     = -9999    \n",
    "lamostdata[\"gaiadr2_ra_pmra_corr\"][~gaiamatch]         = -9999        \n",
    "lamostdata[\"gaiadr2_ra_pmdec_corr\"][~gaiamatch]        = -9999       \n",
    "lamostdata[\"gaiadr2_dec_parallax_corr\"][~gaiamatch]    = -9999   \n",
    "lamostdata[\"gaiadr2_dec_pmra_corr\"][~gaiamatch]        = -9999       \n",
    "lamostdata[\"gaiadr2_dec_pmdec_corr\"][~gaiamatch]       = -9999      \n",
    "lamostdata[\"gaiadr2_parallax_pmra_corr\"][~gaiamatch]   = -9999  \n",
    "lamostdata[\"gaiadr2_parallax_pmdec_corr\"][~gaiamatch]  = -9999 \n",
    "lamostdata[\"gaiadr2_pmra_pmdec_corr\"][~gaiamatch]      = -9999     "
   ]
  },
  {
   "cell_type": "code",
   "execution_count": 81,
   "metadata": {},
   "outputs": [],
   "source": [
    "# Write dataframe to file\n",
    "lamostdata.to_csv(\"../data/lamost/LMRC-DR4-VF-SNR30-Gaia.csv\")"
   ]
  },
  {
   "cell_type": "code",
   "execution_count": 102,
   "metadata": {},
   "outputs": [
    {
     "data": {
      "text/plain": [
       "(-10.0, 10.0)"
      ]
     },
     "execution_count": 102,
     "metadata": {},
     "output_type": "execute_result"
    },
    {
     "data": {
      "image/png": "[encoded data removed]",
      "text/plain": [
       "<matplotlib.figure.Figure at 0x7ff079bd9ed0>"
      ]
     },
     "metadata": {},
     "output_type": "display_data"
    }
   ],
   "source": [
    "# Quick check of proper motions\n",
    "dpmra = lamostdata[\"mra\"]-lamostdata[\"gaiadr2_pmra\"]\n",
    "index = (~np.isnan(dpmra)) & (dpmra<10.) & (dpmra>-10.)\n",
    "plt.hist(dpmra[index],30,histtype=\"step\")\n",
    "plt.xlim([-10.,10.])\n",
    "\n",
    "dpmdec = lamostdata[\"mdec\"]-lamostdata[\"gaiadr2_pmdec\"]\n",
    "index = (~np.isnan(dpmdec)) & (dpmdec<10.) & (dpmdec>-10.)\n",
    "plt.hist(dpmdec[index],30,histtype=\"step\")\n",
    "plt.xlim([-10.,10.])"
   ]
  }
 ],
 "metadata": {
  "kernelspec": {
   "display_name": "Python 3 (ipykernel)",
   "language": "python",
   "name": "python3"
  },
  "language_info": {
   "codemirror_mode": {
    "name": "ipython",
    "version": 3
   },
   "file_extension": ".py",
   "mimetype": "text/x-python",
   "name": "python",
   "nbconvert_exporter": "python",
   "pygments_lexer": "ipython3",
   "version": "3.8.10"
  }
 },
 "nbformat": 4,
 "nbformat_minor": 4
}
